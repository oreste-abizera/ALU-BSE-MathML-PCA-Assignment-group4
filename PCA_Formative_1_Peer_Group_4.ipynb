{
  "cells": [
    {
      "cell_type": "markdown",
      "metadata": {
        "id": "view-in-github",
        "colab_type": "text"
      },
      "source": [
        "<a href=\"https://colab.research.google.com/github/oreste-abizera/ALU-BSE-MathML-PCA-Assignment-group4/blob/main/PCA_Formative_1_Peer_Group_4.ipynb\" target=\"_parent\"><img src=\"https://colab.research.google.com/assets/colab-badge.svg\" alt=\"Open In Colab\"/></a>"
      ]
    },
    {
      "cell_type": "markdown",
      "metadata": {
        "id": "JqkivgEHr_KW"
      },
      "source": [
        "# Formative Assignment: Advanced Linear Algebra (PCA)\n",
        "This notebook will guide you through the implementation of Principal Component Analysis (PCA). Fill in the missing code and provide the required answers in the appropriate sections. You will work with a dataset that is Africanized .\n",
        "\n",
        "Make sure to display outputs for each code cell when submitting."
      ]
    },
    {
      "cell_type": "markdown",
      "metadata": {
        "id": "xycIp758r_Kb"
      },
      "source": [
        "### Step 1: Load and Standardize the Data\n",
        "Before applying PCA, we must standardize the dataset. Standardization ensures that all features have a mean of 0 and a standard deviation of 1, which is essential for PCA.\n",
        "Fill in the code to standardize the dataset.\n",
        "\n",
        "STRICTLY - Write code that implements standardization based on the image below\n",
        "\n",
        "<img src='data:image/jpeg;base64,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'/>\n"
      ]
    },
    {
      "cell_type": "code",
      "execution_count": null,
      "metadata": {
        "id": "BKihXBaBr_Kc",
        "colab": {
          "base_uri": "https://localhost:8080/"
        },
        "outputId": "faefbab5-6f01-4f56-9762-e98183be3bba"
      },
      "outputs": [
        {
          "output_type": "execute_result",
          "data": {
            "text/plain": [
              "array([[-1.31077107,  0.69568653, -0.57907522, -1.67993333, -0.99700331,\n",
              "        -1.06842968,  0.71588847,  0.66856867,  0.85522866,  0.83208312,\n",
              "         0.92488528,  0.63683791,  0.22930008, -0.63903166, -0.22930008,\n",
              "         1.07662889, -0.07445644, -0.19772048,  0.19608112,  0.68606627,\n",
              "         0.86483734,  0.44442918,  0.89442719,  0.89442719],\n",
              "       [-1.31077107,  0.47338764, -0.56348774, -0.22193912, -1.49550497,\n",
              "        -0.85257505, -1.33971649, -1.47426675, -1.17274825, -1.26363275,\n",
              "        -1.21964169, -1.29991913,  1.39294438,  1.6017287 , -1.39294438,\n",
              "        -0.89824316, -1.70354092, -1.88984484, -1.38722814, -1.22848676,\n",
              "        -1.1967951 , -1.22264642, -1.11803399, -1.11803399],\n",
              "       [-0.57346234,  0.16595301, -0.38791095,  0.0259199 ,  0.47080712,\n",
              "        -0.7986114 ,  0.81783462,  0.78836854,  0.87756672,  0.86750766,\n",
              "         0.90863886,  0.78530012, -0.34287862, -0.78841568,  0.34287862,\n",
              "         1.00559033,  0.39243581,  0.26566711,  0.56304603,  0.79868703,\n",
              "         0.88318237,  0.68945572,  0.89442719,  0.89442719],\n",
              "       [-0.57346234,  1.39651411, -0.20858215,  0.09152964,  1.6709037 ,\n",
              "         0.47953213, -1.22108825, -1.28439526, -1.14243231, -1.18569876,\n",
              "        -1.16510015, -1.19644547,  1.14221439,  1.11623062, -1.14221439,\n",
              "        -1.09715114, -1.26519963, -1.27832515, -1.19549928, -1.16612651,\n",
              "        -1.1548636 , -1.15104049, -1.11803399, -1.11803399],\n",
              "       [-0.20480798, -0.37570774, -0.64609569, -0.92177634,  0.05538907,\n",
              "        -0.77129087,  0.8678809 ,  0.84713829,  0.88873575,  0.88451144,\n",
              "         0.8993552 ,  0.85953122, -0.62896796, -0.82576169,  0.62896796,\n",
              "         0.94875947,  0.62420247,  0.49926004,  0.74859008,  0.85732429,\n",
              "         0.8919181 ,  0.81364726,  0.89442719,  0.89442719]])"
            ]
          },
          "metadata": {},
          "execution_count": 3
        }
      ],
      "source": [
        "# Step 1: Load and Standardize the data (use of numpy only allowed)\n",
        "import pandas as pd\n",
        "import numpy as np\n",
        "import matplotlib.pyplot as plt\n",
        "\n",
        "# Load the data\n",
        "data = pd.read_csv('https://raw.githubusercontent.com/oreste-abizera/ALU-BSE-MathML-PCA-Assignment-group4/refs/heads/main/DatasetAfricaMalaria.csv')\n",
        "\n",
        "# Drop non-numerical columns and any rows with missing values\n",
        "data = data.select_dtypes(include=['float64', 'int64'])\n",
        "data = data.dropna()\n",
        "\n",
        "# Extract features as numpy array\n",
        "X = data.values\n",
        "\n",
        "# Calculate mean and standard deviation for each feature\n",
        "mean = np.mean(X, axis=0)\n",
        "std = np.std(X, axis=0)\n",
        "\n",
        "# Standardize the data: (X - mean) / std\n",
        "standardized_data = (X - mean) / std\n",
        "\n",
        "# Display the first few rows of standardized data\n",
        "standardized_data[:5]"
      ]
    },
    {
      "cell_type": "markdown",
      "metadata": {
        "id": "Fybn40Syr_Kd"
      },
      "source": [
        "### Step 3: Calculate the Covariance Matrix\n",
        "The covariance matrix helps us understand how the features are related to each other. It is a key component in PCA."
      ]
    },
    {
      "cell_type": "code",
      "execution_count": null,
      "metadata": {
        "id": "RbklA9tqr_Ke",
        "colab": {
          "base_uri": "https://localhost:8080/"
        },
        "outputId": "e24b1763-0174-4ed7-de58-f35cbe8f550b"
      },
      "outputs": [
        {
          "output_type": "execute_result",
          "data": {
            "text/plain": [
              "array([[ 1.125     , -0.62889782,  0.67925531,  0.75645087,  0.41519494,\n",
              "         0.90895259,  0.10233745,  0.19029265, -0.03176366,  0.01946578,\n",
              "        -0.03871663,  0.11325175, -0.53450001, -0.20747262,  0.53450001,\n",
              "        -0.23642555,  0.61715699,  0.78478855,  0.34367594,  0.06496025,\n",
              "        -0.02495861,  0.16210496, -0.07212942, -0.07212942],\n",
              "       [-0.62889782,  1.125     , -0.6343396 , -0.05486886,  0.39760572,\n",
              "        -0.06390695, -0.77626116, -0.7969115 , -0.71126655, -0.72745511,\n",
              "        -0.68447382, -0.80194573,  1.02208367,  0.78513957, -1.02208367,\n",
              "        -0.57181047, -0.96564857, -0.911888  , -0.94017138, -0.7843673 ,\n",
              "        -0.70871292, -0.86558812, -0.68957145, -0.68957145],\n",
              "       [ 0.67925531, -0.6343396 ,  1.125     ,  0.69163886,  0.13914485,\n",
              "         0.64048373,  0.20305045,  0.23354193,  0.13216401,  0.1509103 ,\n",
              "         0.10542568,  0.22899833, -0.54517279, -0.26089419,  0.54517279,\n",
              "        -0.02670279,  0.51011594,  0.53859643,  0.40868124,  0.21201384,\n",
              "         0.12948094,  0.30445423,  0.10954219,  0.10954219],\n",
              "       [ 0.75645087, -0.05486886,  0.69163886,  1.125     ,  0.58595054,\n",
              "         0.94773023, -0.49461308, -0.43616187, -0.5837704 , -0.55284994,\n",
              "        -0.59452393, -0.48017297,  0.09229389,  0.41465764, -0.09229389,\n",
              "        -0.71467082, -0.05101672,  0.11465501, -0.28200348, -0.51099118,\n",
              "        -0.58122007, -0.4256627 , -0.60924505, -0.60924505],\n",
              "       [ 0.41519494,  0.39760572,  0.13914485,  0.58595054,  1.125     ,\n",
              "         0.7279746 , -0.37426728, -0.32388998, -0.43014602, -0.40259035,\n",
              "        -0.41627874, -0.38385243,  0.23170651,  0.26244863, -0.23170651,\n",
              "        -0.49959977, -0.1291331 ,  0.02406245, -0.31103017, -0.40915561,\n",
              "        -0.42295562, -0.39401193, -0.44587344, -0.44587344],\n",
              "       [ 0.90895259, -0.06390695,  0.64048373,  0.94773023,  0.7279746 ,\n",
              "         1.125     , -0.45758352, -0.37538721, -0.56901727, -0.52492477,\n",
              "        -0.56947593, -0.45315961,  0.05596075,  0.34215739, -0.05596075,\n",
              "        -0.72951929,  0.04146032,  0.25828738, -0.24831443, -0.49343041,\n",
              "        -0.56234388, -0.41523326, -0.6012222 , -0.6012222 ],\n",
              "       [ 0.10233745, -0.77626116,  0.20305045, -0.49461308, -0.37426728,\n",
              "        -0.45758352,  1.125     ,  1.12028877,  1.11681952,  1.12188278,\n",
              "         1.1156572 ,  1.12379154, -1.00090405, -1.11649196,  1.00090405,\n",
              "         1.07296907,  0.99172698,  0.86869122,  1.0858423 ,  1.12229651,\n",
              "         1.11777629,  1.11197647,  1.1111941 ,  1.1111941 ],\n",
              "       [ 0.19029265, -0.7969115 ,  0.23354193, -0.43616187, -0.32388998,\n",
              "        -0.37538721,  1.12028877,  1.125     ,  1.10065937,  1.11110199,\n",
              "         1.10137762,  1.11761143, -1.02010913, -1.12191175,  1.02010913,\n",
              "         1.04294503,  1.02719317,  0.92523015,  1.09328161,  1.11152357,\n",
              "         1.10286075,  1.10484387,  1.09167684,  1.09167684],\n",
              "       [-0.03176366, -0.71126655,  0.13216401, -0.5837704 , -0.43014602,\n",
              "        -0.56901727,  1.11681952,  1.10065937,  1.125     ,  1.12343188,\n",
              "         1.1237393 ,  1.11519405, -0.94507588, -1.09517493,  0.94507588,\n",
              "         1.10463857,  0.92234771,  0.7764037 ,  1.05150778,  1.11978558,\n",
              "         1.12487052,  1.09939968,  1.12426344,  1.12426344],\n",
              "       [ 0.01946578, -0.72745511,  0.1509103 , -0.55284994, -0.40259035,\n",
              "        -0.52492477,  1.12188278,  1.11110199,  1.12343188,  1.125     ,\n",
              "         1.12326429,  1.11939556, -0.9629242 , -1.10610322,  0.9629242 ,\n",
              "         1.09479556,  0.94957132,  0.81492081,  1.06322399,  1.12132601,\n",
              "         1.12402966,  1.1029231 ,  1.12072649,  1.12072649],\n",
              "       [-0.03871663, -0.68447382,  0.10542568, -0.59452393, -0.41627874,\n",
              "        -0.56947593,  1.1156572 ,  1.10137762,  1.1237393 ,  1.12326429,\n",
              "         1.125     ,  1.11158391, -0.92932048, -1.09533141,  0.92932048,\n",
              "         1.10650836,  0.91595247,  0.77554901,  1.04130265,  1.11564893,\n",
              "         1.12430114,  1.0903988 ,  1.12302457,  1.12302457],\n",
              "       [ 0.11325175, -0.80194573,  0.22899833, -0.48017297, -0.38385243,\n",
              "        -0.45315961,  1.12379154,  1.11761143,  1.11519405,  1.11939556,\n",
              "         1.11158391,  1.125     , -1.01577953, -1.11450044,  1.01577953,\n",
              "         1.0676705 ,  0.99794184,  0.87051534,  1.09439245,  1.12379699,\n",
              "         1.115512  ,  1.11857472,  1.1094013 ,  1.1094013 ],\n",
              "       [-0.53450001,  1.02208367, -0.54517279,  0.09229389,  0.23170651,\n",
              "         0.05596075, -1.00090405, -1.02010913, -0.94507588, -0.9629242 ,\n",
              "        -0.92932048, -1.01577953,  1.125     ,  1.02572728, -1.125     ,\n",
              "        -0.81765813, -1.10213095, -1.03213205, -1.10013337, -0.99921242,\n",
              "        -0.94505192, -1.0497586 , -0.92534089, -0.92534089],\n",
              "       [-0.20747262,  0.78513957, -0.26089419,  0.41465764,  0.26244863,\n",
              "         0.34215739, -1.11649196, -1.12191175, -1.09517493, -1.10610322,\n",
              "        -1.09533141, -1.11450044,  1.02572728,  1.125     , -1.02572728,\n",
              "        -1.03170268, -1.03280523, -0.93280527, -1.09495808, -1.10788559,\n",
              "        -1.09731572, -1.10345967, -1.0856067 , -1.0856067 ],\n",
              "       [ 0.53450001, -1.02208367,  0.54517279, -0.09229389, -0.23170651,\n",
              "        -0.05596075,  1.00090405,  1.02010913,  0.94507588,  0.9629242 ,\n",
              "         0.92932048,  1.01577953, -1.125     , -1.02572728,  1.125     ,\n",
              "         0.81765813,  1.10213095,  1.03213205,  1.10013337,  0.99921242,\n",
              "         0.94505192,  1.0497586 ,  0.92534089,  0.92534089],\n",
              "       [-0.23642555, -0.57181047, -0.02670279, -0.71467082, -0.49959977,\n",
              "        -0.72951929,  1.07296907,  1.04294503,  1.10463857,  1.09479556,\n",
              "         1.10650836,  1.0676705 , -0.81765813, -1.03170268,  0.81765813,\n",
              "         1.125     ,  0.78723353,  0.61864572,  0.95947394,  1.080184  ,\n",
              "         1.10383626,  1.03950277,  1.11113516,  1.11113516],\n",
              "       [ 0.61715699, -0.96564857,  0.51011594, -0.05101672, -0.1291331 ,\n",
              "         0.04146032,  0.99172698,  1.02719317,  0.92234771,  0.94957132,\n",
              "         0.91595247,  0.99794184, -1.10213095, -1.03280523,  1.10213095,\n",
              "         0.78723353,  1.125     ,  1.09535481,  1.07942637,  0.97457889,\n",
              "         0.92573009,  1.01548868,  0.89876249,  0.89876249],\n",
              "       [ 0.78478855, -0.911888  ,  0.53859643,  0.11465501,  0.02406245,\n",
              "         0.25828738,  0.86869122,  0.92523015,  0.7764037 ,  0.81492081,\n",
              "         0.77554901,  0.87051534, -1.03213205, -0.93280527,  1.03213205,\n",
              "         0.61864572,  1.09535481,  1.125     ,  0.9799882 ,  0.8374874 ,\n",
              "         0.7826825 ,  0.88399214,  0.74644305,  0.74644305],\n",
              "       [ 0.34367594, -0.94017138,  0.40868124, -0.28200348, -0.31103017,\n",
              "        -0.24831443,  1.0858423 ,  1.09328161,  1.05150778,  1.06322399,\n",
              "         1.04130265,  1.09439245, -1.10013337, -1.09495808,  1.10013337,\n",
              "         0.95947394,  1.07942637,  0.9799882 ,  1.125     ,  1.08488268,\n",
              "         1.05166244,  1.10952823,  1.03802952,  1.03802952],\n",
              "       [ 0.06496025, -0.7843673 ,  0.21201384, -0.51099118, -0.40915561,\n",
              "        -0.49343041,  1.12229651,  1.11152357,  1.11978558,  1.12132601,\n",
              "         1.11564893,  1.12379699, -0.99921242, -1.10788559,  0.99921242,\n",
              "         1.080184  ,  0.97457889,  0.8374874 ,  1.08488268,  1.125     ,\n",
              "         1.11956505,  1.11694729,  1.11579438,  1.11579438],\n",
              "       [-0.02495861, -0.70871292,  0.12948094, -0.58122007, -0.42295562,\n",
              "        -0.56234388,  1.11777629,  1.10286075,  1.12487052,  1.12402966,\n",
              "         1.12430114,  1.115512  , -0.94505192, -1.09731572,  0.94505192,\n",
              "         1.10383626,  0.92573009,  0.7826825 ,  1.05166244,  1.11956505,\n",
              "         1.125     ,  1.09849896,  1.12382188,  1.12382188],\n",
              "       [ 0.16210496, -0.86558812,  0.30445423, -0.4256627 , -0.39401193,\n",
              "        -0.41523326,  1.11197647,  1.10484387,  1.09939968,  1.1029231 ,\n",
              "         1.0903988 ,  1.11857472, -1.0497586 , -1.10345967,  1.0497586 ,\n",
              "         1.03950277,  1.01548868,  0.88399214,  1.10952823,  1.11694729,\n",
              "         1.09849896,  1.125     ,  1.09235204,  1.09235204],\n",
              "       [-0.07212942, -0.68957145,  0.10954219, -0.60924505, -0.44587344,\n",
              "        -0.6012222 ,  1.1111941 ,  1.09167684,  1.12426344,  1.12072649,\n",
              "         1.12302457,  1.1094013 , -0.92534089, -1.0856067 ,  0.92534089,\n",
              "         1.11113516,  0.89876249,  0.74644305,  1.03802952,  1.11579438,\n",
              "         1.12382188,  1.09235204,  1.125     ,  1.125     ],\n",
              "       [-0.07212942, -0.68957145,  0.10954219, -0.60924505, -0.44587344,\n",
              "        -0.6012222 ,  1.1111941 ,  1.09167684,  1.12426344,  1.12072649,\n",
              "         1.12302457,  1.1094013 , -0.92534089, -1.0856067 ,  0.92534089,\n",
              "         1.11113516,  0.89876249,  0.74644305,  1.03802952,  1.11579438,\n",
              "         1.12382188,  1.09235204,  1.125     ,  1.125     ]])"
            ]
          },
          "metadata": {},
          "execution_count": 4
        }
      ],
      "source": [
        "# Step 3: Calculate the Covariance Matrix\n",
        "cov_matrix = np.cov(standardized_data, rowvar=False)  # Calculate covariance matrix\n",
        "cov_matrix"
      ]
    },
    {
      "cell_type": "markdown",
      "metadata": {
        "id": "dWzqXsR0r_Ke"
      },
      "source": [
        "### Step 4: Perform Eigendecomposition\n",
        "Eigendecomposition of the covariance matrix will give us the eigenvalues and eigenvectors, which are essential for PCA.\n",
        "Fill in the code to compute the eigenvalues and eigenvectors of the covariance matrix."
      ]
    },
    {
      "cell_type": "code",
      "execution_count": 7,
      "metadata": {
        "id": "8Tm0rzdAr_Ke",
        "colab": {
          "base_uri": "https://localhost:8080/",
          "height": 0
        },
        "outputId": "bafb9309-9b50-4705-b517-2778c03bf180",
        "collapsed": true
      },
      "outputs": [
        {
          "output_type": "error",
          "ename": "NameError",
          "evalue": "name 'np' is not defined",
          "traceback": [
            "\u001b[0;31m---------------------------------------------------------------------------\u001b[0m",
            "\u001b[0;31mNameError\u001b[0m                                 Traceback (most recent call last)",
            "\u001b[0;32m<ipython-input-7-598188982>\u001b[0m in \u001b[0;36m<cell line: 0>\u001b[0;34m()\u001b[0m\n\u001b[1;32m      1\u001b[0m \u001b[0;31m# Step 4: Perform Eigendecomposition\u001b[0m\u001b[0;34m\u001b[0m\u001b[0;34m\u001b[0m\u001b[0m\n\u001b[0;32m----> 2\u001b[0;31m \u001b[0meigenvalues\u001b[0m\u001b[0;34m,\u001b[0m \u001b[0meigenvectors\u001b[0m \u001b[0;34m=\u001b[0m \u001b[0mnp\u001b[0m\u001b[0;34m.\u001b[0m\u001b[0mlinalg\u001b[0m\u001b[0;34m.\u001b[0m\u001b[0meig\u001b[0m\u001b[0;34m(\u001b[0m\u001b[0mcov_matrix\u001b[0m\u001b[0;34m)\u001b[0m\u001b[0;34m\u001b[0m\u001b[0;34m\u001b[0m\u001b[0m\n\u001b[0m\u001b[1;32m      3\u001b[0m \u001b[0meigenvalues\u001b[0m\u001b[0;34m,\u001b[0m \u001b[0meigenvectors\u001b[0m\u001b[0;34m\u001b[0m\u001b[0;34m\u001b[0m\u001b[0m\n",
            "\u001b[0;31mNameError\u001b[0m: name 'np' is not defined"
          ]
        }
      ],
      "source": [
        "# Step 4: Perform Eigendecomposition\n",
        "eigenvalues, eigenvectors = np.linalg.eig(cov_matrix)\n",
        "eigenvalues, eigenvectors"
      ]
    },
    {
      "cell_type": "markdown",
      "metadata": {
        "id": "bp6o_4sTr_Kf"
      },
      "source": [
        "### Step 5: Sort Principal Components\n",
        "Sort the eigenvectors based on their corresponding eigenvalues in descending order. The higher the eigenvalue, the more important the eigenvector.\n",
        "Complete the code to sort the eigenvectors and print the sorted components.\n",
        "\n",
        "<a url ='https://www.youtube.com/watch?v=vaF-1xUEXsA&t=17s'>How Is Explained Variance Used In PCA?'<a/>"
      ]
    },
    {
      "cell_type": "code",
      "execution_count": 4,
      "metadata": {
        "id": "jpfoRz-Xr_Kf"
      },
      "outputs": [],
      "source": [
        "# Step 5: Sort Principal Components\n",
        "sorted_indices = None  # Sort eigenvalues in descending order\n",
        "sorted_eigenvectors = None  # Sort eigenvectors accordingly\n",
        "sorted_eigenvectors"
      ]
    },
    {
      "cell_type": "markdown",
      "metadata": {
        "id": "uxbmuO27r_Kg"
      },
      "source": [
        "### Step 6: Project Data onto Principal Components\n",
        "Now that we’ve selected the number of components, we will project the original data onto the chosen principal components.\n",
        "Fill in the code to perform the projection."
      ]
    },
    {
      "cell_type": "code",
      "execution_count": 6,
      "metadata": {
        "id": "ubjIMAtWr_Kg",
        "colab": {
          "base_uri": "https://localhost:8080/",
          "height": 176
        },
        "outputId": "1e4511dd-4656-45c7-ec71-4305b64a1959"
      },
      "outputs": [
        {
          "output_type": "error",
          "ename": "TypeError",
          "evalue": "'NoneType' object is not subscriptable",
          "traceback": [
            "\u001b[0;31m---------------------------------------------------------------------------\u001b[0m",
            "\u001b[0;31mTypeError\u001b[0m                                 Traceback (most recent call last)",
            "\u001b[0;32m<ipython-input-6-2417866861>\u001b[0m in \u001b[0;36m<cell line: 0>\u001b[0;34m()\u001b[0m\n\u001b[1;32m      2\u001b[0m \u001b[0mnum_components\u001b[0m \u001b[0;34m=\u001b[0m \u001b[0;32mNone\u001b[0m  \u001b[0;31m# Decide on the number of principal components to keep\u001b[0m\u001b[0;34m\u001b[0m\u001b[0;34m\u001b[0m\u001b[0m\n\u001b[1;32m      3\u001b[0m \u001b[0mreduced_data\u001b[0m \u001b[0;34m=\u001b[0m \u001b[0;32mNone\u001b[0m  \u001b[0;31m# Project data onto the principal components\u001b[0m\u001b[0;34m\u001b[0m\u001b[0;34m\u001b[0m\u001b[0m\n\u001b[0;32m----> 4\u001b[0;31m \u001b[0mreduced_data\u001b[0m\u001b[0;34m[\u001b[0m\u001b[0;34m:\u001b[0m\u001b[0;36m5\u001b[0m\u001b[0;34m]\u001b[0m\u001b[0;34m\u001b[0m\u001b[0;34m\u001b[0m\u001b[0m\n\u001b[0m",
            "\u001b[0;31mTypeError\u001b[0m: 'NoneType' object is not subscriptable"
          ]
        }
      ],
      "source": [
        "# Step 6: Project Data onto Principal Components\n",
        "num_components = None  # Decide on the number of principal components to keep\n",
        "reduced_data = None  # Project data onto the principal components\n",
        "reduced_data[:5]"
      ]
    },
    {
      "cell_type": "markdown",
      "metadata": {
        "id": "XVq-b6vtr_Kg"
      },
      "source": [
        "### Step 7: Output the Reduced Data\n",
        "Finally, display the reduced data obtained by projecting the original dataset onto the selected principal components."
      ]
    },
    {
      "cell_type": "code",
      "execution_count": 2,
      "metadata": {
        "id": "5D0uzRyPr_Kg",
        "colab": {
          "base_uri": "https://localhost:8080/",
          "height": 0
        },
        "collapsed": true,
        "outputId": "fb8f2677-a229-4cca-fae8-6b17bac14e31"
      },
      "outputs": [
        {
          "output_type": "error",
          "ename": "NameError",
          "evalue": "name 'reduced_data' is not defined",
          "traceback": [
            "\u001b[0;31m---------------------------------------------------------------------------\u001b[0m",
            "\u001b[0;31mNameError\u001b[0m                                 Traceback (most recent call last)",
            "\u001b[0;32m<ipython-input-2-2984286203>\u001b[0m in \u001b[0;36m<cell line: 0>\u001b[0;34m()\u001b[0m\n\u001b[1;32m      1\u001b[0m \u001b[0;31m# Step 7: Output the Reduced Data\u001b[0m\u001b[0;34m\u001b[0m\u001b[0;34m\u001b[0m\u001b[0m\n\u001b[0;32m----> 2\u001b[0;31m \u001b[0mprint\u001b[0m\u001b[0;34m(\u001b[0m\u001b[0;34mf'Reduced Data Shape: {reduced_data.shape}'\u001b[0m\u001b[0;34m)\u001b[0m  \u001b[0;31m# Display reduced data shape\u001b[0m\u001b[0;34m\u001b[0m\u001b[0;34m\u001b[0m\u001b[0m\n\u001b[0m\u001b[1;32m      3\u001b[0m \u001b[0mreduced_data\u001b[0m\u001b[0;34m[\u001b[0m\u001b[0;34m:\u001b[0m\u001b[0;36m5\u001b[0m\u001b[0;34m]\u001b[0m  \u001b[0;31m# Display the first few rows of reduced data\u001b[0m\u001b[0;34m\u001b[0m\u001b[0;34m\u001b[0m\u001b[0m\n",
            "\u001b[0;31mNameError\u001b[0m: name 'reduced_data' is not defined"
          ]
        }
      ],
      "source": [
        "# Step 7: Output the Reduced Data\n",
        "print(f'Reduced Data Shape: {reduced_data.shape}')  # Display reduced data shape\n",
        "reduced_data[:5]  # Display the first few rows of reduced data"
      ]
    },
    {
      "cell_type": "markdown",
      "metadata": {
        "id": "S1f8ROm5r_Kg"
      },
      "source": [
        "### Step 8: Visualize Before and After PCA\n",
        "Now, let's plot the original data and the data after PCA to compare the reduction in dimensions visually."
      ]
    },
    {
      "cell_type": "code",
      "execution_count": 3,
      "metadata": {
        "id": "WwuppWV-r_Kg",
        "colab": {
          "base_uri": "https://localhost:8080/",
          "height": 211
        },
        "collapsed": true,
        "outputId": "5babc61d-c7d3-46fa-d773-9239dcf94ae8"
      },
      "outputs": [
        {
          "output_type": "error",
          "ename": "NameError",
          "evalue": "name 'plt' is not defined",
          "traceback": [
            "\u001b[0;31m---------------------------------------------------------------------------\u001b[0m",
            "\u001b[0;31mNameError\u001b[0m                                 Traceback (most recent call last)",
            "\u001b[0;32m<ipython-input-3-3260316357>\u001b[0m in \u001b[0;36m<cell line: 0>\u001b[0;34m()\u001b[0m\n\u001b[1;32m      1\u001b[0m \u001b[0;31m# Step 8: Visualize Before and After PCA\u001b[0m\u001b[0;34m\u001b[0m\u001b[0;34m\u001b[0m\u001b[0m\n\u001b[1;32m      2\u001b[0m \u001b[0;31m# Set up the figure with two subplots side by side\u001b[0m\u001b[0;34m\u001b[0m\u001b[0;34m\u001b[0m\u001b[0m\n\u001b[0;32m----> 3\u001b[0;31m \u001b[0mplt\u001b[0m\u001b[0;34m.\u001b[0m\u001b[0mfigure\u001b[0m\u001b[0;34m(\u001b[0m\u001b[0mfigsize\u001b[0m\u001b[0;34m=\u001b[0m\u001b[0;34m(\u001b[0m\u001b[0;36m14\u001b[0m\u001b[0;34m,\u001b[0m \u001b[0;36m6\u001b[0m\u001b[0;34m)\u001b[0m\u001b[0;34m)\u001b[0m\u001b[0;34m\u001b[0m\u001b[0;34m\u001b[0m\u001b[0m\n\u001b[0m\u001b[1;32m      4\u001b[0m \u001b[0;34m\u001b[0m\u001b[0m\n\u001b[1;32m      5\u001b[0m \u001b[0;31m# Plot original data (first two features for simplicity)\u001b[0m\u001b[0;34m\u001b[0m\u001b[0;34m\u001b[0m\u001b[0m\n",
            "\u001b[0;31mNameError\u001b[0m: name 'plt' is not defined"
          ]
        }
      ],
      "source": [
        "# Step 8: Visualize Before and After PCA\n",
        "# Set up the figure with two subplots side by side\n",
        "plt.figure(figsize=(14, 6))\n",
        "\n",
        "# Plot original data (first two features for simplicity)\n",
        "plt.subplot(1, 2, 1)\n",
        "plt.scatter(X[:, 0], X[:, 1], alpha=0.7)\n",
        "plt.title('Original Data (First Two Features)')\n",
        "plt.xlabel('Feature 1')\n",
        "plt.ylabel('Feature 2')\n",
        "plt.grid(True)\n",
        "\n",
        "# Plot reduced data after PCA\n",
        "plt.subplot(1, 2, 2)\n",
        "plt.scatter(reduced_data[:, 0], reduced_data[:, 1], alpha=0.7, c='r')\n",
        "plt.title('Data After PCA (First Two Principal Components)')\n",
        "plt.xlabel('Principal Component 1')\n",
        "plt.ylabel('Principal Component 2')\n",
        "plt.grid(True)\n",
        "\n",
        "plt.tight_layout()\n",
        "plt.show()"
      ]
    }
  ],
  "metadata": {
    "kernelspec": {
      "display_name": "Python 3",
      "name": "python3"
    },
    "language_info": {
      "name": "python",
      "version": "3.8.8"
    },
    "colab": {
      "provenance": [],
      "include_colab_link": true
    }
  },
  "nbformat": 4,
  "nbformat_minor": 0
}